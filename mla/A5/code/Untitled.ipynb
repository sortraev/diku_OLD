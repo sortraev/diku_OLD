{
 "cells": [
  {
   "cell_type": "code",
   "execution_count": 1,
   "id": "e28ed731",
   "metadata": {},
   "outputs": [],
   "source": [
    "from sklearn.model_selection import train_test_split\n",
    "from sklearn.datasets import make_classification\n",
    "from sklearn.linear_model import LogisticRegression\n",
    "\n",
    "import matplotlib as mpl\n",
    "import matplotlib.pyplot as plt\n",
    "import numpy as np"
   ]
  },
  {
   "cell_type": "code",
   "execution_count": 15,
   "id": "253baa41",
   "metadata": {},
   "outputs": [],
   "source": [
    "np.random.seed(2)"
   ]
  },
  {
   "cell_type": "code",
   "execution_count": 26,
   "id": "4c0beba2",
   "metadata": {},
   "outputs": [],
   "source": [
    "m       = 4  # Number of classes\n",
    "d       = 2  # Input dimensionality\n",
    "train_n = 50  # Training set size\n",
    "test_n  = 25  # Test set size\n",
    "\n",
    "# Generate data with three classes\n",
    "X, y = make_classification(n_samples      = test_n + train_n,\n",
    "                           n_features    = d,\n",
    "                           n_informative = d,\n",
    "                           n_redundant   = 0,\n",
    "                           n_repeated    = 0,\n",
    "                           n_classes     = m,\n",
    "                           n_clusters_per_class = 1,\n",
    "                           weights      = None,\n",
    "                           flip_y        = 0.01,\n",
    "                           class_sep    = 0.75,\n",
    "                           hypercube    = True,\n",
    "                           shift        = 0.0,\n",
    "                           scale        = 1.0,\n",
    "                           shuffle        = True,\n",
    "                           random_state = 1)\n",
    "\n",
    "X_train, X_test, y_train, y_test = train_test_split(X, y, test_size=test_n, random_state=4711)"
   ]
  },
  {
   "cell_type": "code",
   "execution_count": 27,
   "id": "ee2ba3bc",
   "metadata": {},
   "outputs": [
    {
     "data": {
      "text/html": [
       "<style>#sk-container-id-5 {color: black;background-color: white;}#sk-container-id-5 pre{padding: 0;}#sk-container-id-5 div.sk-toggleable {background-color: white;}#sk-container-id-5 label.sk-toggleable__label {cursor: pointer;display: block;width: 100%;margin-bottom: 0;padding: 0.3em;box-sizing: border-box;text-align: center;}#sk-container-id-5 label.sk-toggleable__label-arrow:before {content: \"▸\";float: left;margin-right: 0.25em;color: #696969;}#sk-container-id-5 label.sk-toggleable__label-arrow:hover:before {color: black;}#sk-container-id-5 div.sk-estimator:hover label.sk-toggleable__label-arrow:before {color: black;}#sk-container-id-5 div.sk-toggleable__content {max-height: 0;max-width: 0;overflow: hidden;text-align: left;background-color: #f0f8ff;}#sk-container-id-5 div.sk-toggleable__content pre {margin: 0.2em;color: black;border-radius: 0.25em;background-color: #f0f8ff;}#sk-container-id-5 input.sk-toggleable__control:checked~div.sk-toggleable__content {max-height: 200px;max-width: 100%;overflow: auto;}#sk-container-id-5 input.sk-toggleable__control:checked~label.sk-toggleable__label-arrow:before {content: \"▾\";}#sk-container-id-5 div.sk-estimator input.sk-toggleable__control:checked~label.sk-toggleable__label {background-color: #d4ebff;}#sk-container-id-5 div.sk-label input.sk-toggleable__control:checked~label.sk-toggleable__label {background-color: #d4ebff;}#sk-container-id-5 input.sk-hidden--visually {border: 0;clip: rect(1px 1px 1px 1px);clip: rect(1px, 1px, 1px, 1px);height: 1px;margin: -1px;overflow: hidden;padding: 0;position: absolute;width: 1px;}#sk-container-id-5 div.sk-estimator {font-family: monospace;background-color: #f0f8ff;border: 1px dotted black;border-radius: 0.25em;box-sizing: border-box;margin-bottom: 0.5em;}#sk-container-id-5 div.sk-estimator:hover {background-color: #d4ebff;}#sk-container-id-5 div.sk-parallel-item::after {content: \"\";width: 100%;border-bottom: 1px solid gray;flex-grow: 1;}#sk-container-id-5 div.sk-label:hover label.sk-toggleable__label {background-color: #d4ebff;}#sk-container-id-5 div.sk-serial::before {content: \"\";position: absolute;border-left: 1px solid gray;box-sizing: border-box;top: 0;bottom: 0;left: 50%;z-index: 0;}#sk-container-id-5 div.sk-serial {display: flex;flex-direction: column;align-items: center;background-color: white;padding-right: 0.2em;padding-left: 0.2em;position: relative;}#sk-container-id-5 div.sk-item {position: relative;z-index: 1;}#sk-container-id-5 div.sk-parallel {display: flex;align-items: stretch;justify-content: center;background-color: white;position: relative;}#sk-container-id-5 div.sk-item::before, #sk-container-id-5 div.sk-parallel-item::before {content: \"\";position: absolute;border-left: 1px solid gray;box-sizing: border-box;top: 0;bottom: 0;left: 50%;z-index: -1;}#sk-container-id-5 div.sk-parallel-item {display: flex;flex-direction: column;z-index: 1;position: relative;background-color: white;}#sk-container-id-5 div.sk-parallel-item:first-child::after {align-self: flex-end;width: 50%;}#sk-container-id-5 div.sk-parallel-item:last-child::after {align-self: flex-start;width: 50%;}#sk-container-id-5 div.sk-parallel-item:only-child::after {width: 0;}#sk-container-id-5 div.sk-dashed-wrapped {border: 1px dashed gray;margin: 0 0.4em 0.5em 0.4em;box-sizing: border-box;padding-bottom: 0.4em;background-color: white;}#sk-container-id-5 div.sk-label label {font-family: monospace;font-weight: bold;display: inline-block;line-height: 1.2em;}#sk-container-id-5 div.sk-label-container {text-align: center;}#sk-container-id-5 div.sk-container {/* jupyter's `normalize.less` sets `[hidden] { display: none; }` but bootstrap.min.css set `[hidden] { display: none !important; }` so we also need the `!important` here to be able to override the default hidden behavior on the sphinx rendered scikit-learn.org. See: https://github.com/scikit-learn/scikit-learn/issues/21755 */display: inline-block !important;position: relative;}#sk-container-id-5 div.sk-text-repr-fallback {display: none;}</style><div id=\"sk-container-id-5\" class=\"sk-top-container\"><div class=\"sk-text-repr-fallback\"><pre>LogisticRegression(multi_class=&#x27;multinomial&#x27;, penalty=&#x27;none&#x27;)</pre><b>In a Jupyter environment, please rerun this cell to show the HTML representation or trust the notebook. <br />On GitHub, the HTML representation is unable to render, please try loading this page with nbviewer.org.</b></div><div class=\"sk-container\" hidden><div class=\"sk-item\"><div class=\"sk-estimator sk-toggleable\"><input class=\"sk-toggleable__control sk-hidden--visually\" id=\"sk-estimator-id-5\" type=\"checkbox\" checked><label for=\"sk-estimator-id-5\" class=\"sk-toggleable__label sk-toggleable__label-arrow\">LogisticRegression</label><div class=\"sk-toggleable__content\"><pre>LogisticRegression(multi_class=&#x27;multinomial&#x27;, penalty=&#x27;none&#x27;)</pre></div></div></div></div></div>"
      ],
      "text/plain": [
       "LogisticRegression(multi_class='multinomial', penalty='none')"
      ]
     },
     "execution_count": 27,
     "metadata": {},
     "output_type": "execute_result"
    }
   ],
   "source": [
    "logreg = LogisticRegression(penalty = 'none',\n",
    "                            fit_intercept = True,\n",
    "                            multi_class = 'multinomial',\n",
    "                            solver = 'lbfgs')\n",
    "logreg.fit(X_train, y_train)"
   ]
  },
  {
   "cell_type": "code",
   "execution_count": 93,
   "id": "fae1f9a4",
   "metadata": {},
   "outputs": [
    {
     "name": "stdout",
     "output_type": "stream",
     "text": [
      "Training accuracy: 0.74\n",
      "Test accuracy: 0.72\n"
     ]
    }
   ],
   "source": [
    "# Get model parameters\n",
    "ws = logreg.coef_\n",
    "bs = logreg.intercept_\n",
    "# Evaluate model\n",
    "train_score = logreg.score(X_train, y_train)\n",
    "test_score = logreg.score(X_test, y_test)\n",
    "print(f\"Training accuracy: {train_score}\\nTest accuracy: {test_score}\")\n"
   ]
  },
  {
   "cell_type": "code",
   "execution_count": 49,
   "id": "6820c7ee",
   "metadata": {},
   "outputs": [],
   "source": [
    "# Colors for the three classes\n",
    "colors = ['b', 'r', 'g', 'y']\n",
    "class_colours = [colors[i] for i in y]\n",
    "cmap = mpl.colors.ListedColormap(colors[:m])\n",
    "\n",
    "# Compute the plot boundaries\n",
    "xl, xh = np.floor(X[:,0].min() - 0.1), np.ceil(X[:,0].max() + 0.1)\n",
    "yl, yh = np.floor(X[:,1].min() - 0.1), np.ceil(X[:,1].max() + 0.1)\n",
    "\n",
    "# Create grid to calculate the decision boundary on\n",
    "res = (xh - xl) / 300  # Resulution of the grid\n",
    "xx, yy = np.meshgrid(np.arange(xl, xh, res), np.arange(yl, yh, res))"
   ]
  },
  {
   "cell_type": "code",
   "execution_count": 50,
   "id": "0112f5bf",
   "metadata": {},
   "outputs": [
    {
     "data": {
      "image/png": "[encoded data removed]",
      "text/plain": [
       "<Figure size 432x288 with 1 Axes>"
      ]
     },
     "metadata": {
      "needs_background": "light"
     },
     "output_type": "display_data"
    }
   ],
   "source": [
    "plt.xlim(xl, xh)\n",
    "plt.ylim(yl, yh)\n",
    "\n",
    "plt.figure(1)\n",
    "ax = plt.gca()\n",
    "\n",
    "# Classify each point on the grid\n",
    "Z = logreg.predict_proba(np.c_[xx.ravel(), yy.ravel()])\n",
    "Z = np.argmax(Z, axis=1)\n",
    "Z = Z.reshape(xx.shape)\n",
    "\n",
    "# Plot points\n",
    "ax.scatter(X[:,0], X[:,1], s=45, c=class_colours, edgecolor=plt.cm.gray(.95), lw=0.5, zorder=100)\n",
    "\n",
    "# Plot classifications\n",
    "cax = ax.matshow(Z, cmap=cmap, origin=\"lower\", extent=[xl, xh, yl, yh], aspect=\"auto\", alpha=.4)\n",
    "ax.xaxis.set_ticks_position('bottom')\n",
    "ax.grid(False)\n",
    "\n",
    "for i in np.arange(m - 1):\n",
    "    for j in np.arange(i + 1, m):\n",
    "        w = ws[i] - ws[j]\n",
    "        b = -(bs[i] - bs[j]) / w[1]\n",
    "        a = -w[0] / w[1]\n",
    "        x_line = np.arange(xl, xh, res)\n",
    "        y_line = a * x_line + b\n",
    "        ax.plot(x_line, y_line, \"k\", lw=1, ls='--')\n",
    "\n",
    "plt.xlim(xl, xh)\n",
    "plt.ylim(yl, yh)\n",
    "plt.show()\n"
   ]
  },
  {
   "cell_type": "markdown",
   "id": "03868e21",
   "metadata": {},
   "source": [
    "# PyTorch"
   ]
  },
  {
   "cell_type": "code",
   "execution_count": 51,
   "id": "e1e34509",
   "metadata": {},
   "outputs": [],
   "source": [
    "import torch\n",
    "import torch.nn as nn\n",
    "import torch.optim as optim\n",
    "import torch.nn.functional as F"
   ]
  },
  {
   "cell_type": "code",
   "execution_count": 386,
   "id": "7214bf79",
   "metadata": {},
   "outputs": [
    {
     "name": "stdout",
     "output_type": "stream",
     "text": [
      "LogisticRegressionPytorch(\n",
      "  (l1): Linear(in_features=2, out_features=4, bias=True)\n",
      ")\n"
     ]
    }
   ],
   "source": [
    "class LogisticRegressionPytorch(nn.Module):\n",
    "    def __init__(self, input_dim, output_dim):\n",
    "        super(LogisticRegressionPytorch, self).__init__()\n",
    "        # TODO: LAYER DEFINITION MISSING\n",
    "        self.l1 = nn.Linear(input_dim, output_dim)\n",
    "        \n",
    "        # explicitly initialize weight and bias.\n",
    "        #nn.init.xavier_uniform_(self.hidden1.weight)\n",
    "        #nn.init.zeros_(self.hidden1.bias)\n",
    "        #self.forward = lambda x: self.l1(x)\n",
    "    def forward(self, x):\n",
    "        # TODO: RETURN VALUE MISSING\n",
    "        return self.l1(x)\n",
    "\n",
    "logreg_pytorch = LogisticRegressionPytorch(d, m)\n",
    "print(logreg_pytorch)"
   ]
  },
  {
   "cell_type": "code",
   "execution_count": 387,
   "id": "02d2d185",
   "metadata": {},
   "outputs": [],
   "source": [
    "X_train_T = torch.Tensor(X_train)\n",
    "y_train_T = torch.from_numpy(y_train)\n",
    "\n",
    "X_test_T = torch.Tensor(X_test)\n",
    "y_test_T = torch.from_numpy(y_test)"
   ]
  },
  {
   "cell_type": "code",
   "execution_count": 388,
   "id": "0e9d2789",
   "metadata": {},
   "outputs": [],
   "source": [
    "optimizer = optim.Adam(logreg_pytorch.parameters(), lr = 0.02)\n",
    "# TODO: DEFINITION OF LOSS FUNCTION MISSING\n",
    "loss_f = F.cross_entropy"
   ]
  },
  {
   "cell_type": "code",
   "execution_count": 389,
   "id": "e0d26c8a",
   "metadata": {},
   "outputs": [
    {
     "name": "stdout",
     "output_type": "stream",
     "text": [
      "Epoch 0: test accuracy = 0.32\n",
      "Epoch 2000: test accuracy = 0.72\n",
      "Epoch 4000: test accuracy = 0.72\n",
      "Epoch 6000: test accuracy = 0.72\n",
      "Epoch 8000: test accuracy = 0.72\n",
      "Epoch 10000: test accuracy = 0.72\n",
      "Epoch 12000: test accuracy = 0.72\n",
      "Epoch 14000: test accuracy = 0.72\n",
      "Epoch 16000: test accuracy = 0.72\n",
      "Epoch 18000: test accuracy = 0.72\n",
      "Epoch 20000: test accuracy = 0.72\n",
      "Epoch 22000: test accuracy = 0.72\n",
      "Epoch 24000: test accuracy = 0.72\n",
      "Epoch 26000: test accuracy = 0.72\n",
      "Epoch 28000: test accuracy = 0.72\n",
      "Epoch 30000: test accuracy = 0.72\n",
      "Epoch 32000: test accuracy = 0.72\n",
      "Epoch 34000: test accuracy = 0.72\n",
      "Epoch 36000: test accuracy = 0.72\n",
      "Epoch 38000: test accuracy = 0.72\n"
     ]
    }
   ],
   "source": [
    "\n",
    "num_epochs = 40000  # Number of training steps\n",
    "for epoch in range(num_epochs):\n",
    "    # Zero the parameter gradients\n",
    "    optimizer.zero_grad()\n",
    "\n",
    "    # Forward + backward + optimize\n",
    "    predictions = logreg_pytorch(X_train_T)\n",
    "    # TODO: SOMETHING MISSING HERE\n",
    "    loss = loss_f(predictions, y_train_T)\n",
    "    \n",
    "    # TODO: SOMETHING MISSING HERE\n",
    "    loss.backward()\n",
    "    optimizer.step()\n",
    "    \n",
    "    if epoch % 2000 == 0:\n",
    "        with torch.no_grad():\n",
    "            predictions = logreg_pytorch(X_test_T).detach().numpy().argmax(1)\n",
    "            test_accuracy = (predictions == y_test).mean()\n",
    "            print(f\"Epoch {epoch}: test accuracy = {test_accuracy}\")"
   ]
  },
  {
   "cell_type": "code",
   "execution_count": 340,
   "id": "36b697b6",
   "metadata": {},
   "outputs": [
    {
     "name": "stdout",
     "output_type": "stream",
     "text": [
      "Training accuracy: 0.9\n",
      "Test accuracy: 0.76\n"
     ]
    }
   ],
   "source": [
    "train_predictions = logreg_pytorch(X_train_T).detach().numpy().argmax(1)\n",
    "train_accuracy = (train_predictions == y_train).mean()\n",
    "\n",
    "test_predictions = logreg_pytorch(X_test_T).detach().numpy().argmax(1)\n",
    "test_accuracy = (test_predictions == y_test).mean()\n",
    "\n",
    "print(f\"Training accuracy: {train_accuracy}\\nTest accuracy: {test_accuracy}\")"
   ]
  },
  {
   "cell_type": "code",
   "execution_count": 168,
   "id": "d463c1be",
   "metadata": {},
   "outputs": [
    {
     "name": "stdout",
     "output_type": "stream",
     "text": [
      "Weights:\n",
      "[[-2.1944392  -2.18116341]\n",
      " [ 1.41283771 -0.36105617]\n",
      " [-0.89934198  1.1239456 ]\n",
      " [ 1.68094346  1.41827398]]\n",
      "Biases:\n",
      "[-1.44737652  0.55474302  0.30896602  0.58366748]\n"
     ]
    }
   ],
   "source": [
    "print(f\"Weights:\\n{ws}\\nBiases:\\n{bs}\")"
   ]
  },
  {
   "cell_type": "code",
   "execution_count": 392,
   "id": "702345e3",
   "metadata": {},
   "outputs": [
    {
     "name": "stdout",
     "output_type": "stream",
     "text": [
      "l1.weight tensor([[-2.4371, -2.4753],\n",
      "        [ 1.1705, -0.6541],\n",
      "        [-1.1408,  0.8303],\n",
      "        [ 1.4395,  1.1248]])\n",
      "l1.bias tensor([-1.1784,  0.8224,  0.5765,  0.8524])\n"
     ]
    }
   ],
   "source": [
    "for name, param in logreg_pytorch.named_parameters():\n",
    "    print(name, param.data)"
   ]
  },
  {
   "cell_type": "code",
   "execution_count": 172,
   "id": "ac24254e",
   "metadata": {},
   "outputs": [
    {
     "data": {
      "text/plain": [
       "array([[ -7.372049 ,  -6.4597826],\n",
       "       [  7.9115763,  -2.4530067],\n",
       "       [ -3.766304 ,   8.5372505],\n",
       "       [  7.308166 ,   5.5166907],\n",
       "       [ 10.128338 ,  -1.0545875],\n",
       "       [ 13.661272 ,   5.768243 ],\n",
       "       [-18.27009  ,  -8.484608 ],\n",
       "       [  1.9829205,  14.42122  ],\n",
       "       [-10.457778 , -17.16858  ],\n",
       "       [-17.880598 ,  -8.6282625],\n",
       "       [ -9.471335 ,   1.0412233],\n",
       "       [  9.2826805,  15.399661 ],\n",
       "       [ -5.1522884, -18.151438 ],\n",
       "       [ -3.5592976,  -1.1406112],\n",
       "       [ 16.661636 ,   4.932246 ],\n",
       "       [ 13.6777   ,   4.965747 ]], dtype=float32)"
      ]
     },
     "execution_count": 172,
     "metadata": {},
     "output_type": "execute_result"
    }
   ],
   "source": []
  },
  {
   "cell_type": "code",
   "execution_count": 390,
   "id": "cc93280c",
   "metadata": {},
   "outputs": [],
   "source": [
    "ws_torch = logreg_pytorch.l1.weight.detach().numpy()\n",
    "# TODO: SOMETHING MISSING HERE\n",
    "bs_torch = logreg_pytorch.l1.bias.detach().numpy()"
   ]
  },
  {
   "cell_type": "code",
   "execution_count": 391,
   "id": "c9a56e46",
   "metadata": {},
   "outputs": [
    {
     "data": {
      "image/png": "[encoded data removed]",
      "text/plain": [
       "<Figure size 432x288 with 1 Axes>"
      ]
     },
     "metadata": {
      "needs_background": "light"
     },
     "output_type": "display_data"
    }
   ],
   "source": [
    "plt.figure(2)\n",
    "ax = plt.gca()\n",
    "\n",
    "# Classify each point on the grid\n",
    "X_Z_T = torch.Tensor(np.c_[xx.ravel(), yy.ravel()])  # Automatically casts to float\n",
    "outputs = logreg_pytorch(X_Z_T)\n",
    "_, predicted = torch.max(outputs.data, 1)\n",
    "\n",
    "Z = predicted.numpy().reshape(xx.shape)\n",
    "\n",
    "# Plot points\n",
    "ax.scatter(X[:,0], X[:,1], s=45, c=class_colours, edgecolor=plt.cm.gray(.95), lw=0.5, zorder=100)\n",
    "\n",
    "# Plot classifications\n",
    "cax = ax.matshow(Z, cmap=cmap, origin=\"lower\", extent=[xl, xh, yl, yh], aspect=\"auto\", alpha=.4)\n",
    "ax.xaxis.set_ticks_position('bottom')\n",
    "ax.grid(False)\n",
    "\n",
    "for i in np.arange(m - 1):\n",
    "    for j in np.arange(i + 1, m):\n",
    "        w = ws_torch[i] - ws_torch[j]\n",
    "        b = bs_torch[i] - bs_torch[j]\n",
    "        b = -b / w[1]\n",
    "        a = -w[0] / w[1]\n",
    "        x_line = np.arange(xl, xh, res)\n",
    "        y_line = a * x_line + b\n",
    "        ax.plot(x_line, y_line, \"k\", lw=1, ls='--')\n",
    "\n",
    "plt.xlim(xl, xh)\n",
    "plt.ylim(yl, yh)\n",
    "plt.show()"
   ]
  },
  {
   "cell_type": "code",
   "execution_count": null,
   "id": "cc765824",
   "metadata": {},
   "outputs": [],
   "source": []
  }
 ],
 "metadata": {
  "kernelspec": {
   "display_name": "Python 3 (ipykernel)",
   "language": "python",
   "name": "python3"
  },
  "language_info": {
   "codemirror_mode": {
    "name": "ipython",
    "version": 3
   },
   "file_extension": ".py",
   "mimetype": "text/x-python",
   "name": "python",
   "nbconvert_exporter": "python",
   "pygments_lexer": "ipython3",
   "version": "3.10.7"
  }
 },
 "nbformat": 4,
 "nbformat_minor": 5
}
