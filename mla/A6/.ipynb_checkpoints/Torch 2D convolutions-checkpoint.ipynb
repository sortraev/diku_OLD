{
 "cells": [
  {
   "cell_type": "markdown",
   "id": "structured-tuning",
   "metadata": {},
   "source": [
    "# PyTorch 2D convolutions\n",
    "#### Christian Igel, 2021"
   ]
  },
  {
   "cell_type": "code",
   "execution_count": 1,
   "id": "realistic-banana",
   "metadata": {},
   "outputs": [],
   "source": [
    "import torch\n",
    "import torch.nn as nn"
   ]
  },
  {
   "cell_type": "markdown",
   "id": "sized-craft",
   "metadata": {},
   "source": [
    "## One input channel, one output, no padding\n",
    "Let's define a `W`$\\times$`W` filter. For the following examples, we do not need a bias parameter."
   ]
  },
  {
   "cell_type": "code",
   "execution_count": 2,
   "id": "capital-granny",
   "metadata": {},
   "outputs": [
    {
     "name": "stdout",
     "output_type": "stream",
     "text": [
      "We just defined: Conv2d(1, 1, kernel_size=(3, 3), stride=(1, 1), bias=False)\n"
     ]
    }
   ],
   "source": [
    "# Convolution filter is of size W\n",
    "W = 3\n",
    "# 1 input (image) channel, 1 output channel, WxW convolution kernel\n",
    "conv = nn.Conv2d(1, 1, W, bias=False)\n",
    "print(\"We just defined:\", conv)"
   ]
  },
  {
   "cell_type": "markdown",
   "id": "virgin-throat",
   "metadata": {},
   "source": [
    "Let's look at the kernel dimensions:"
   ]
  },
  {
   "cell_type": "code",
   "execution_count": 3,
   "id": "homeless-discovery",
   "metadata": {
    "scrolled": true
   },
   "outputs": [
    {
     "name": "stdout",
     "output_type": "stream",
     "text": [
      "torch.Size([1, 1, 3, 3])\n"
     ]
    }
   ],
   "source": [
    "# 1 output channel, 1 input channel, 1st dimension = W, 2nd dimension = W\n",
    "print(conv.weight.shape)"
   ]
  },
  {
   "cell_type": "markdown",
   "id": "ordered-working",
   "metadata": {},
   "source": [
    "The filter parameters are initialized randomly:"
   ]
  },
  {
   "cell_type": "code",
   "execution_count": 4,
   "id": "excess-pennsylvania",
   "metadata": {},
   "outputs": [
    {
     "name": "stdout",
     "output_type": "stream",
     "text": [
      "Parameter containing:\n",
      "tensor([[[[-0.2742,  0.1677,  0.2475],\n",
      "          [-0.1806,  0.2685,  0.1660],\n",
      "          [-0.1279,  0.1774,  0.1164]]]], requires_grad=True)\n"
     ]
    }
   ],
   "source": [
    "print(conv.weight)"
   ]
  },
  {
   "cell_type": "markdown",
   "id": "lonely-monaco",
   "metadata": {},
   "source": [
    "We can set the parameters as follows:"
   ]
  },
  {
   "cell_type": "code",
   "execution_count": 5,
   "id": "ambient-sender",
   "metadata": {},
   "outputs": [
    {
     "name": "stdout",
     "output_type": "stream",
     "text": [
      "Parameter containing:\n",
      "tensor([[[[1., 1., 1.],\n",
      "          [1., 1., 1.],\n",
      "          [1., 1., 1.]]]], requires_grad=True)\n"
     ]
    }
   ],
   "source": [
    "conv.weight = torch.nn.Parameter(torch.ones_like(conv.weight))\n",
    "print(conv.weight)"
   ]
  },
  {
   "cell_type": "markdown",
   "id": "serial-evolution",
   "metadata": {},
   "source": [
    "Let's define an input (image) `x`. The input is of the same shape as the filter:"
   ]
  },
  {
   "cell_type": "code",
   "execution_count": 6,
   "id": "preceding-spank",
   "metadata": {
    "scrolled": true
   },
   "outputs": [
    {
     "name": "stdout",
     "output_type": "stream",
     "text": [
      "Input:\n",
      " tensor([[[[0., 1., 2.],\n",
      "          [3., 4., 5.],\n",
      "          [6., 7., 8.]]]])\n",
      "Sum of all input elements: 36.0\n"
     ]
    }
   ],
   "source": [
    "x = torch.arange(float(W*W))\n",
    "x = torch.reshape(x, (1, 1, W, W))\n",
    "print('Input:\\n', x)\n",
    "print('Sum of all input elements:', torch.sum(x).item())"
   ]
  },
  {
   "cell_type": "markdown",
   "id": "streaming-benjamin",
   "metadata": {},
   "source": [
    "Because there is no padding and input and filter have the same size, there is only one valid position for the filter. Accordingly, the result is a tensor with a single value:"
   ]
  },
  {
   "cell_type": "code",
   "execution_count": 7,
   "id": "million-bunch",
   "metadata": {},
   "outputs": [
    {
     "name": "stdout",
     "output_type": "stream",
     "text": [
      "Tensor: tensor([[[[36.]]]], grad_fn=<ConvolutionBackward0>) scalar: 36.0\n"
     ]
    }
   ],
   "source": [
    "c = conv(x)\n",
    "print('Tensor:', c, 'scalar:', c.item())"
   ]
  },
  {
   "cell_type": "markdown",
   "id": "final-positive",
   "metadata": {},
   "source": [
    "The scalar should be equal to the sum of all input elements (ensure that you understand why)."
   ]
  },
  {
   "cell_type": "markdown",
   "id": "limiting-stomach",
   "metadata": {},
   "source": [
    "## One input channel, one output,  padding\n",
    "Now we add zero-padding such that the input dimensionality is preseved:\n"
   ]
  },
  {
   "cell_type": "code",
   "execution_count": 8,
   "id": "naughty-alfred",
   "metadata": {},
   "outputs": [
    {
     "name": "stdout",
     "output_type": "stream",
     "text": [
      "tensor([[[[ 8., 15., 12.],\n",
      "          [21., 36., 27.],\n",
      "          [20., 33., 24.]]]], grad_fn=<ConvolutionBackward0>)\n"
     ]
    }
   ],
   "source": [
    "conv = nn.Conv2d(1, 1, W, padding=W//2, bias=False)\n",
    "conv.weight = torch.nn.Parameter(torch.ones_like(conv.weight))\n",
    "c = conv(x)\n",
    "print(c)"
   ]
  },
  {
   "cell_type": "markdown",
   "id": "invalid-communication",
   "metadata": {},
   "source": [
    "## Several input channels, one output, no padding\n",
    "Typically, the input to a convolutional layer consists of several feature maps or channels. For example, consider a 2D input with three channels (e.g., an RGB colour image):"
   ]
  },
  {
   "cell_type": "code",
   "execution_count": 9,
   "id": "amber-somerset",
   "metadata": {},
   "outputs": [
    {
     "name": "stdout",
     "output_type": "stream",
     "text": [
      "Input: tensor([[[[ 0.,  1.,  2.],\n",
      "          [ 3.,  4.,  5.],\n",
      "          [ 6.,  7.,  8.]],\n",
      "\n",
      "         [[ 9., 10., 11.],\n",
      "          [12., 13., 14.],\n",
      "          [15., 16., 17.]],\n",
      "\n",
      "         [[18., 19., 20.],\n",
      "          [21., 22., 23.],\n",
      "          [24., 25., 26.]]]])\n",
      "Sum of all inputs: 351.0\n"
     ]
    }
   ],
   "source": [
    "x = torch.arange(float(3*W*W))\n",
    "x = torch.reshape(x, (1, 3, W, W))\n",
    "print('Input:', x)\n",
    "print('Sum of all inputs:', torch.sum(x).item())"
   ]
  },
  {
   "cell_type": "markdown",
   "id": "voluntary-porter",
   "metadata": {},
   "source": [
    "Let's define a convolutional layer that takes three channels as input and produces a single output feature map:"
   ]
  },
  {
   "cell_type": "code",
   "execution_count": 10,
   "id": "spare-ranch",
   "metadata": {},
   "outputs": [
    {
     "name": "stdout",
     "output_type": "stream",
     "text": [
      "Weight parameters of convolutional layer: Parameter containing:\n",
      "tensor([[[[1., 1., 1.],\n",
      "          [1., 1., 1.],\n",
      "          [1., 1., 1.]],\n",
      "\n",
      "         [[1., 1., 1.],\n",
      "          [1., 1., 1.],\n",
      "          [1., 1., 1.]],\n",
      "\n",
      "         [[1., 1., 1.],\n",
      "          [1., 1., 1.],\n",
      "          [1., 1., 1.]]]], requires_grad=True)\n"
     ]
    }
   ],
   "source": [
    "# 3 input (image) channels, 1 output channel, WxW convolution kernel\n",
    "conv = nn.Conv2d(3, 1, W, bias=False)\n",
    "conv.weight = torch.nn.Parameter(torch.ones_like(conv.weight))\n",
    "print('Weight parameters of convolutional layer:', conv.weight)"
   ]
  },
  {
   "cell_type": "markdown",
   "id": "prime-wrapping",
   "metadata": {},
   "source": [
    "Note that there is one filter for each input channel.\n",
    "The convolutional layer first convolves each input channel with the corresponding filter.\n",
    "This results in three feature maps, whih are added to give the final result:"
   ]
  },
  {
   "cell_type": "code",
   "execution_count": 11,
   "id": "remarkable-prayer",
   "metadata": {
    "scrolled": false
   },
   "outputs": [
    {
     "name": "stdout",
     "output_type": "stream",
     "text": [
      "number of filter parameters: 27 \n",
      "result of filtering the input: tensor([[[[351.]]]], grad_fn=<ConvolutionBackward0>)\n"
     ]
    }
   ],
   "source": [
    "c = conv(x)\n",
    "print('number of filter parameters:', conv.weight.numel(), '\\nresult of filtering the input:', c)"
   ]
  },
  {
   "cell_type": "markdown",
   "id": "accessible-calcium",
   "metadata": {},
   "source": [
    "It is important that the number of parameters and the dimesionality of the result is clear to you."
   ]
  },
  {
   "cell_type": "markdown",
   "id": "expected-antarctica",
   "metadata": {},
   "source": [
    "Now let's apply 1$\\times$1 convolutions to our three input channels. Again, we set all filter weights to 1."
   ]
  },
  {
   "cell_type": "code",
   "execution_count": 12,
   "id": "likely-front",
   "metadata": {
    "scrolled": true
   },
   "outputs": [
    {
     "name": "stdout",
     "output_type": "stream",
     "text": [
      "Parameter containing:\n",
      "tensor([[[[1.]],\n",
      "\n",
      "         [[1.]],\n",
      "\n",
      "         [[1.]]]], requires_grad=True)\n"
     ]
    }
   ],
   "source": [
    "# 3 input (image) channels, 1 output channel, 1x1 convolution kernel\n",
    "conv = nn.Conv2d(3, 1, 1, bias=False)\n",
    "conv.weight = torch.nn.Parameter(torch.ones_like(conv.weight))\n",
    "print(conv.weight)"
   ]
  },
  {
   "cell_type": "markdown",
   "id": "advisory-resort",
   "metadata": {},
   "source": [
    "This convolutional layer adds the three input feature maps/channels:"
   ]
  },
  {
   "cell_type": "code",
   "execution_count": 13,
   "id": "amateur-sharing",
   "metadata": {
    "scrolled": true
   },
   "outputs": [
    {
     "name": "stdout",
     "output_type": "stream",
     "text": [
      "tensor([[[[27., 30., 33.],\n",
      "          [36., 39., 42.],\n",
      "          [45., 48., 51.]]]], grad_fn=<ConvolutionBackward0>)\n"
     ]
    }
   ],
   "source": [
    "c = conv(x)\n",
    "print(c)"
   ]
  },
  {
   "cell_type": "markdown",
   "id": "million-liberty",
   "metadata": {},
   "source": [
    "Thus, 1$\\times$1 convolutions can be used to compute weighted sums of input feature maps/channels (in our previous example, all weights were set to 1). "
   ]
  },
  {
   "cell_type": "markdown",
   "id": "threatened-rolling",
   "metadata": {},
   "source": [
    "## Several output maps\n",
    "Typically, convolutional layer produce several feature maps or channels. For example, consider \n",
    "extending the previous 1$\\times$1 example to two output maps:"
   ]
  },
  {
   "cell_type": "code",
   "execution_count": 14,
   "id": "effective-reform",
   "metadata": {
    "scrolled": true
   },
   "outputs": [
    {
     "name": "stdout",
     "output_type": "stream",
     "text": [
      "Parameter containing:\n",
      "tensor([[[[1.]],\n",
      "\n",
      "         [[1.]],\n",
      "\n",
      "         [[1.]]],\n",
      "\n",
      "\n",
      "        [[[1.]],\n",
      "\n",
      "         [[1.]],\n",
      "\n",
      "         [[1.]]]], requires_grad=True)\n"
     ]
    }
   ],
   "source": [
    "# 3 input (image) channels, 2 output channel, 1x1 convolution kernel\n",
    "conv = nn.Conv2d(3, 2, 1, bias=False)\n",
    "conv.weight = torch.nn.Parameter(torch.ones_like(conv.weight))\n",
    "print(conv.weight)"
   ]
  },
  {
   "cell_type": "markdown",
   "id": "veterinary-while",
   "metadata": {},
   "source": [
    "This layer maps 3 input feature maps to 2 output feature maps, which are identical in our example, because we initialized all filters so that they are identical: "
   ]
  },
  {
   "cell_type": "code",
   "execution_count": 15,
   "id": "civilian-dallas",
   "metadata": {
    "scrolled": true
   },
   "outputs": [
    {
     "name": "stdout",
     "output_type": "stream",
     "text": [
      "tensor([[[[27., 30., 33.],\n",
      "          [36., 39., 42.],\n",
      "          [45., 48., 51.]],\n",
      "\n",
      "         [[27., 30., 33.],\n",
      "          [36., 39., 42.],\n",
      "          [45., 48., 51.]]]], grad_fn=<ConvolutionBackward0>)\n"
     ]
    }
   ],
   "source": [
    "c = conv(x)\n",
    "print(c)"
   ]
  },
  {
   "cell_type": "markdown",
   "id": "korean-arrow",
   "metadata": {},
   "source": [
    "The first convolutional layer in a network has typically more output feature maps than input channels. Let's assume 3 input channels, 4 output channels of the same dimensionality (i.e., we use padding), and a filter size of 3. For each output channel, we have 3 filter with 9 parameters/weights each. Thus, we have 108 parameters in total:"
   ]
  },
  {
   "cell_type": "code",
   "execution_count": 16,
   "id": "infrared-renewal",
   "metadata": {
    "scrolled": true
   },
   "outputs": [
    {
     "name": "stdout",
     "output_type": "stream",
     "text": [
      "Parameter containing:\n",
      "tensor([[[[-0.1633,  0.1717, -0.1813],\n",
      "          [-0.1777, -0.0047,  0.1748],\n",
      "          [ 0.1795,  0.0990, -0.1795]],\n",
      "\n",
      "         [[-0.0600, -0.0510, -0.1199],\n",
      "          [-0.0904,  0.0831,  0.0429],\n",
      "          [-0.0302, -0.0663,  0.0031]],\n",
      "\n",
      "         [[-0.0650,  0.0180,  0.1525],\n",
      "          [ 0.1723, -0.1897,  0.0637],\n",
      "          [-0.0835, -0.0861, -0.1641]]],\n",
      "\n",
      "\n",
      "        [[[-0.1048,  0.0271,  0.0830],\n",
      "          [ 0.1448, -0.1682,  0.1565],\n",
      "          [-0.0862, -0.1022, -0.1158]],\n",
      "\n",
      "         [[-0.0715, -0.1860,  0.1358],\n",
      "          [-0.0987,  0.0245, -0.0167],\n",
      "          [-0.0281, -0.0486, -0.1229]],\n",
      "\n",
      "         [[ 0.0892,  0.1894,  0.1069],\n",
      "          [ 0.1858, -0.0936, -0.0618],\n",
      "          [ 0.1400, -0.1704, -0.0735]]],\n",
      "\n",
      "\n",
      "        [[[ 0.1463,  0.0821,  0.0903],\n",
      "          [ 0.0878, -0.0819, -0.1483],\n",
      "          [-0.0507,  0.0326, -0.1307]],\n",
      "\n",
      "         [[ 0.1575, -0.0384, -0.1329],\n",
      "          [ 0.0020,  0.1420, -0.0566],\n",
      "          [-0.0739,  0.0024,  0.0059]],\n",
      "\n",
      "         [[ 0.0540, -0.0037,  0.0992],\n",
      "          [-0.1165, -0.0489,  0.0999],\n",
      "          [-0.1670,  0.1099,  0.0058]]],\n",
      "\n",
      "\n",
      "        [[[-0.0624, -0.0344,  0.0048],\n",
      "          [-0.0584,  0.0427,  0.1211],\n",
      "          [-0.1055, -0.0222, -0.0520]],\n",
      "\n",
      "         [[ 0.1688,  0.1180,  0.0893],\n",
      "          [ 0.1535,  0.1303, -0.1135],\n",
      "          [-0.0294, -0.0866,  0.0545]],\n",
      "\n",
      "         [[-0.0715,  0.0541,  0.0939],\n",
      "          [ 0.0222, -0.0383,  0.0042],\n",
      "          [ 0.0813,  0.0111,  0.0835]]]], requires_grad=True)\n",
      "Number of parameters: 108\n"
     ]
    }
   ],
   "source": [
    "conv = nn.Conv2d(3, 4, W, padding=W//2, bias=False)\n",
    "print(conv.weight)\n",
    "print(\"Number of parameters:\", conv.weight.shape.numel())"
   ]
  },
  {
   "cell_type": "markdown",
   "id": "primary-chair",
   "metadata": {},
   "source": [
    "And here are the resulting feature maps when applied to our input:"
   ]
  },
  {
   "cell_type": "code",
   "execution_count": 17,
   "id": "blond-damages",
   "metadata": {},
   "outputs": [
    {
     "name": "stdout",
     "output_type": "stream",
     "text": [
      "tensor([[[[ -7.4476,  -6.9607,  -4.6226],\n",
      "          [ -6.7372,  -8.0592,  -7.0620],\n",
      "          [  1.5210,   0.8199,  -4.2444]],\n",
      "\n",
      "         [[-10.7956,  -6.7886,  -1.9939],\n",
      "          [ -7.9663,  -1.8679,  -0.2255],\n",
      "          [  2.6721,   7.4188,   3.2191]],\n",
      "\n",
      "         [[  3.6965,  -2.9953,  -3.7978],\n",
      "          [  3.7255,  -1.4356,  -1.8696],\n",
      "          [  1.5395,   2.7657,   1.8292]],\n",
      "\n",
      "         [[  1.0138,   3.9668,   2.5671],\n",
      "          [  6.1356,   9.8367,   5.4471],\n",
      "          [  6.1245,   9.4170,   7.2595]]]], grad_fn=<ConvolutionBackward0>)\n"
     ]
    }
   ],
   "source": [
    "c = conv(x)\n",
    "print(c)"
   ]
  },
  {
   "cell_type": "markdown",
   "id": "central-ozone",
   "metadata": {},
   "source": [
    "# Image processing examples\n",
    "Now we consider a more complex example that involves some basic image transformations. First, we need to import NumPy and some image utilities."
   ]
  },
  {
   "cell_type": "code",
   "execution_count": 18,
   "id": "preliminary-discount",
   "metadata": {},
   "outputs": [],
   "source": [
    "import torchvision\n",
    "from PIL import Image\n",
    "import numpy as np\n",
    "import matplotlib.pyplot as plt"
   ]
  },
  {
   "cell_type": "markdown",
   "id": "concerned-demographic",
   "metadata": {},
   "source": [
    "Let's load an image and convert it to grayscale so that we just deal with a single channel: "
   ]
  },
  {
   "cell_type": "code",
   "execution_count": 20,
   "id": "surprised-advancement",
   "metadata": {},
   "outputs": [],
   "source": [
    "image = Image.open('diku.jpg')  # Load image\n",
    "image = torchvision.transforms.functional.to_grayscale(image)  # Transform to grayscale, because we only want one channel"
   ]
  },
  {
   "cell_type": "markdown",
   "id": "colonial-netscape",
   "metadata": {},
   "source": [
    "Let's plot the image:"
   ]
  },
  {
   "cell_type": "code",
   "execution_count": 20,
   "id": "median-coordinate",
   "metadata": {},
   "outputs": [
    {
     "name": "stdout",
     "output_type": "stream",
     "text": [
      "PIL image shape: (42, 134) min: 0 max: 255\n"
     ]
    },
    {
     "data": {
      "image/png": "[encoded data removed]",
      "text/plain": [
       "<Figure size 432x288 with 1 Axes>"
      ]
     },
     "metadata": {
      "needs_background": "light"
     },
     "output_type": "display_data"
    }
   ],
   "source": [
    "img_np = np.asarray(image) \n",
    "print(\"PIL image shape:\", img_np.shape, \"min:\", img_np.min(), \"max:\", img_np.max())\n",
    "plt.imshow(image, cmap='gray', vmin=0, vmax=255);"
   ]
  },
  {
   "cell_type": "markdown",
   "id": "broadband-lingerie",
   "metadata": {},
   "source": [
    "The transformation of the image to a tensor maps has two important effects. First, the values are rescaled to $[0.,1.]$. Second, the channels become the first dimension.  The latter implies that, if we want to plot the image, we have to reorder the axes."
   ]
  },
  {
   "cell_type": "code",
   "execution_count": 21,
   "id": "caroline-strength",
   "metadata": {},
   "outputs": [
    {
     "name": "stdout",
     "output_type": "stream",
     "text": [
      "Tensor shape: torch.Size([1, 42, 134]) min: 0.0 max: 1.0\n",
      "torch.Size([42, 134, 1])\n"
     ]
    },
    {
     "data": {
      "image/png": "[encoded data removed]",
      "text/plain": [
       "<Figure size 432x288 with 1 Axes>"
      ]
     },
     "metadata": {
      "needs_background": "light"
     },
     "output_type": "display_data"
    }
   ],
   "source": [
    "x = torchvision.transforms.ToTensor()(image)\n",
    "print(\"Tensor shape:\", x.shape, \"min:\", x.min().item(), \"max:\", x.max().item())\n",
    "plt.imshow(x.permute(1, 2, 0), cmap='gray', vmin=0, vmax=1);\n",
    "print(x.permute(1, 2, 0).shape)\n",
    "#plt.imshow(x[0], cmap='gray', vmin=0, vmax=1);"
   ]
  },
  {
   "cell_type": "markdown",
   "id": "suitable-drill",
   "metadata": {},
   "source": [
    "In order to be process by a layer, the tensor needs  another dimension/axis for enumerating the elements in a batch:"
   ]
  },
  {
   "cell_type": "code",
   "execution_count": 22,
   "id": "heated-service",
   "metadata": {},
   "outputs": [
    {
     "name": "stdout",
     "output_type": "stream",
     "text": [
      "Shape after adding batch dimension: torch.Size([1, 1, 42, 134])\n"
     ]
    }
   ],
   "source": [
    "x.unsqueeze_(0)  # Add a dimension\n",
    "print(\"Shape after adding batch dimension:\", x.shape);"
   ]
  },
  {
   "cell_type": "markdown",
   "id": "empirical-rainbow",
   "metadata": {},
   "source": [
    "Now we apply a simple horizontal gradient filter:"
   ]
  },
  {
   "cell_type": "code",
   "execution_count": 23,
   "id": "trained-eligibility",
   "metadata": {},
   "outputs": [
    {
     "name": "stdout",
     "output_type": "stream",
     "text": [
      "Kernel: tensor([[[[-1.,  1.]]]]) shape: torch.Size([1, 1, 1, 2])\n",
      "Tensor shape: torch.Size([1, 1, 42, 135]) min: -1.0 max: 1.0\n"
     ]
    }
   ],
   "source": [
    "hf = torch.tensor([[[[-1., 1.]]]])  # Define filter\n",
    "print(\"Kernel:\", hf, \"shape:\", hf.shape)\n",
    "\n",
    "conv = nn.Conv2d(1, 1, kernel_size=(1, 2), padding=(0, 1), bias=False)  # Padding only in one dimension needed\n",
    "conv.weight = torch.nn.Parameter(hf, requires_grad=False)  # Set kernel parameters to predefined filter parameters  \n",
    "c = conv(x)  # Apply filter\n",
    "print(\"Tensor shape:\", c.shape, \"min:\", c.min().item(), \"max:\", c.max().item())"
   ]
  },
  {
   "cell_type": "markdown",
   "id": "historic-comedy",
   "metadata": {},
   "source": [
    "We do not need a gradient for the kernel parameters, so we can use ``requires_grad=False``. This allows us to use ``c[0.0]`` as a NumPy array in the visualizaiton below. Alternatively, we could use ``c[0,0].detach()`` in the ``imshow`` call."
   ]
  },
  {
   "cell_type": "code",
   "execution_count": 24,
   "id": "natural-trail",
   "metadata": {
    "scrolled": true
   },
   "outputs": [
    {
     "name": "stdout",
     "output_type": "stream",
     "text": [
      "torch.Size([42, 135])\n"
     ]
    },
    {
     "data": {
      "image/png": "[encoded data removed]",
      "text/plain": [
       "<Figure size 432x288 with 1 Axes>"
      ]
     },
     "metadata": {
      "needs_background": "light"
     },
     "output_type": "display_data"
    }
   ],
   "source": [
    "print(c[0,0].shape)\n",
    "plt.imshow(c[0,0], cmap='gray', vmin=-1, vmax=1);"
   ]
  },
  {
   "cell_type": "code",
   "execution_count": null,
   "id": "loaded-clarity",
   "metadata": {},
   "outputs": [],
   "source": []
  }
 ],
 "metadata": {
  "kernelspec": {
   "display_name": "Python 3 (ipykernel)",
   "language": "python",
   "name": "python3"
  },
  "language_info": {
   "codemirror_mode": {
    "name": "ipython",
    "version": 3
   },
   "file_extension": ".py",
   "mimetype": "text/x-python",
   "name": "python",
   "nbconvert_exporter": "python",
   "pygments_lexer": "ipython3",
   "version": "3.10.7"
  }
 },
 "nbformat": 4,
 "nbformat_minor": 5
}
